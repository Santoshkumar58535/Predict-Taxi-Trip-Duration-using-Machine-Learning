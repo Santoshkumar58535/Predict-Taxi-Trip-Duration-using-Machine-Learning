{
 "cells": [
  {
   "cell_type": "markdown",
   "id": "25d5619f",
   "metadata": {},
   "source": [
    "\n",
    "\n",
    "\n",
    "# Linear Regression with Python\n",
    "\n",
    "Linear regression is a Supervised machine Learning problem and is a linear approach to modeling the relationship between a scalar response (or dependent variable) and one or more explanatory variables (or independent variables). \n",
    "\n",
    "Assumptions of Linear Regression:\n",
    "\n",
    "\n",
    "1.   Linearity - Relationship between dependant and independant variables must be Linear\n",
    "2.   Homoscedasticity - The variance of residual is the same for any value of independant variable\n",
    "3.   Independance - Observations are independant of each other\n",
    "4.   Normality - For any kind of independant variable, dependant variable is normally distributed\n",
    "\n",
    "\n",
    "\n",
    "Based on the hypothesis chosen for building the relationship between dependant and independant variables, Linear regression can be classified as following types:\n",
    "\n",
    "\n",
    "*   Simple Linear Regression - Only one independant and dependant variable\n",
    "*   Multiple Linear Regression - Multiple independant and one dependant variable\n",
    "*   Polynomial Regression - Independant variable models as higher degree polynomial\n",
    "\n",
    "Mathmatically, they can be represented as below:\n",
    "\n",
    "\n",
    "\n",
    "Simple Linear Regression: $$ y = \\theta_0 + \\theta_1 x $$\n",
    "\n",
    "Multiple Linear Regression: $$ y = \\theta_0 + \\theta_1 x_1 + \\theta_2 x_2 +...+\\theta_n x_n  $$\n",
    "\n",
    "Polynomial Linear Regression: $$ y = \\theta_0 + \\theta_1 x_1^2 + \\theta_2 x_1^2 +...+\\theta_n x_1^n  $$\n",
    "\n",
    "\n",
    "\n",
    "\n"
   ]
  },
  {
   "cell_type": "markdown",
   "id": "e12e2184",
   "metadata": {},
   "source": [
    "# Simple Linear Regression\n",
    "\n",
    "We will deep dive into Simple Linear regression as it helps build a strong intuition on how Linear Regression works.\n",
    "\n",
    "Hypothesis: $$y' = \\theta_0 + \\theta_1 x $$\n",
    "\n",
    "\n",
    "Hypothesis of Simple Linear Regression is basically equation of a straight line with slope of $\\theta$$_1$ and intercept of $\\theta$$_0$. By varying the slope and intercept, any linear relationship between two variables can be determined.\n",
    "\n",
    "In the following graph, data is represented as green dots. As it can be inferred, when value of $\\theta$$_1$ is 1 and $\\theta$$_0$ is 1, trend line matches the data trend\n",
    "\n",
    "![alt text](https://drive.google.com/uc?export=view&id=16a75p6AwrF6ZeeD-mYSWppQpX-M7vW5W)\n",
    "\n",
    "When there are more variables involved, it becomes impossible for human mind to understand the trend. So, we need a mathmatical way to represent the error in estimation. Cost function is a measure of how wrong the model is in terms of its ability to estimate the relationship between X and y\n",
    "\n",
    "![alt text](https://drive.google.com/uc?export=view&id=1ZuxUNExH52XLLf5TPmPJP3UDMzj4QA2Y)\n",
    "\n",
    "A residual is the vertical distance between a data point and the regression line. Each data point has one residual. They are positive if they are above the regression line and negative if they are below the regression line. Error can be found as Absolute error, Mean Absolute error, Squared Mean Error etc.\n",
    "\n",
    "Most commonly used cost function for Linear regression is represented below:\n",
    "\n",
    "Cost Function: $$ J(\\theta_1,\\theta_2) = \\frac1 {2m} * \\sum_{i=1}^{m} (y_i'-y_i)^2  $$\n",
    "\n",
    "And our goal is to minmize this cost function by updating values of $\\theta$$_1$ and $\\theta$$_0$.\n",
    "\n",
    "Goal: $$ minimize - J(\\theta_0 , \\theta_1) $$\n",
    "\n",
    "## Gradient descent\n",
    "\n",
    "Gradient descent is a first-order iterative optimization algorithm for finding a local minimum of a differentiable function. To find a local minimum of a function using gradient descent, we take steps proportional to the negative of the gradient of the function at the current point.\n",
    "\n",
    "\n",
    "\n",
    "Gradient Descent: $$ \\theta_j : = \\theta_j - \\alpha \\frac{\\mathrm \\partial}{\\mathrm \\partial \\theta_j} \\left( J(\\theta_0, \\theta_1) \\right)   $$"
   ]
  },
  {
   "cell_type": "markdown",
   "id": "a6a2ebcd",
   "metadata": {},
   "source": [
    "# Linear Regression- From Scratch"
   ]
  },
  {
   "cell_type": "code",
   "execution_count": 6,
   "id": "91794440",
   "metadata": {},
   "outputs": [],
   "source": [
    "import matplotlib.pyplot as plt\n",
    "import numpy as np\n",
    "from sklearn.linear_model import LinearRegression\n",
    "import pandas as pd"
   ]
  },
  {
   "cell_type": "markdown",
   "id": "7f6d780a",
   "metadata": {},
   "source": [
    "# Create Data"
   ]
  },
  {
   "cell_type": "code",
   "execution_count": 3,
   "id": "f196506e",
   "metadata": {},
   "outputs": [],
   "source": [
    "X = [1, 2, 3, 4]\n",
    "Y = [2, 4, 6, 8]"
   ]
  },
  {
   "cell_type": "code",
   "execution_count": 4,
   "id": "88693e75",
   "metadata": {},
   "outputs": [
    {
     "data": {
      "text/plain": [
       "<matplotlib.collections.PathCollection at 0x1f391f45450>"
      ]
     },
     "execution_count": 4,
     "metadata": {},
     "output_type": "execute_result"
    },
    {
     "data": {
      "image/png": "[encoded data removed]",
      "text/plain": [
       "<Figure size 640x480 with 1 Axes>"
      ]
     },
     "metadata": {},
     "output_type": "display_data"
    }
   ],
   "source": [
    "plt.scatter(X,Y)\n"
   ]
  },
  {
   "cell_type": "markdown",
   "id": "98ce876e",
   "metadata": {},
   "source": [
    "# Initialize hyper parameters"
   ]
  },
  {
   "cell_type": "code",
   "execution_count": 5,
   "id": "0195238c",
   "metadata": {},
   "outputs": [],
   "source": [
    "# notice small alpha value\n",
    "alpha = 0.0001\n",
    "iters = 600\n",
    "\n",
    "# theta is a row vector\n",
    "theta = np.array([[3, 3, 3, 3]])"
   ]
  },
  {
   "cell_type": "markdown",
   "id": "dc858d37",
   "metadata": {},
   "source": [
    "# Define Cost Function\n",
    "\n",
    "Cost Function: $$ J(\\theta_1,\\theta_2) = \\frac1 {2m} * \\sum_{i=1}^{m} (y_i'-y_i)^2  $$"
   ]
  },
  {
   "cell_type": "code",
   "execution_count": 7,
   "id": "bf9ecf61",
   "metadata": {},
   "outputs": [],
   "source": [
    "def computeCost(X, y, theta):\n",
    "    inner = np.power(((X @ theta.T) - y), 2) # @ means matrix multiplication of arrays. If we want to use * for multiplication we will have to convert all arrays to matrices\n",
    "    return np.sum(inner) / (2 * len(X))"
   ]
  },
  {
   "cell_type": "code",
   "execution_count": 10,
   "id": "adf835bc",
   "metadata": {},
   "outputs": [
    {
     "data": {
      "text/plain": [
       "315.0"
      ]
     },
     "execution_count": 10,
     "metadata": {},
     "output_type": "execute_result"
    }
   ],
   "source": [
    "computeCost(X , Y, theta)"
   ]
  },
  {
   "cell_type": "markdown",
   "id": "1b5a7cb5",
   "metadata": {},
   "source": [
    "# Define Gradient Descent\n",
    "\n",
    "Gradient Descent: $$ \\theta_j : = \\theta_j - \\alpha \\frac{\\mathrm \\partial}{\\mathrm \\partial \\theta_j} \\left( J(\\theta_0, \\theta_1) \\right)   $$"
   ]
  },
  {
   "cell_type": "code",
   "execution_count": 12,
   "id": "987f3726",
   "metadata": {},
   "outputs": [],
   "source": [
    "def gradientDescent(X, Y, theta, alpha, iters):\n",
    "    for i in range(iters):\n",
    "        cost = computeCost(X, Y, theta)\n",
    "        theta = theta - (alpha/len(X)) * np.sum((X @ theta.T - Y), axis=0)\n",
    "        \n",
    "        if i % 50 == 0: # just look at cost every ten loops for debugging\n",
    "            print(cost)\n",
    "            print(theta)\n",
    "            print((alpha/len(X)) * np.sum((X @ theta.T - Y), axis=0))\n",
    "\n",
    "    return (theta, cost)"
   ]
  },
  {
   "cell_type": "markdown",
   "id": "9efa2e60",
   "metadata": {},
   "source": [
    "# Run the algorithm"
   ]
  },
  {
   "cell_type": "code",
   "execution_count": 13,
   "id": "e8957603",
   "metadata": {},
   "outputs": [
    {
     "name": "stdout",
     "output_type": "stream",
     "text": [
      "315.0\n",
      "[[2.9975 2.9975 2.9975 2.9975]]\n",
      "0.0024975\n",
      "285.247545973034\n",
      "[[2.87563606 2.87563606 2.87563606 2.87563606]]\n",
      "0.002375636056422086\n",
      "258.32775921207366\n",
      "[[2.75971839 2.75971839 2.75971839 2.75971839]]\n",
      "0.0022597183874164886\n",
      "233.97094754878103\n",
      "[[2.64945685 2.64945685 2.64945685 2.64945685]]\n",
      "0.0021494568482508833\n",
      "211.93309562710638\n",
      "[[2.54457545 2.54457545 2.54457545 2.54457545]]\n",
      "0.002044575451622893\n",
      "191.9934202691202\n",
      "[[2.44481168 2.44481168 2.44481168 2.44481168]]\n",
      "0.0019448116768571823\n",
      "173.95215858921776\n",
      "[[2.34991581 2.34991581 2.34991581 2.34991581]]\n",
      "0.0018499158128098586\n",
      "157.6285666972186\n",
      "[[2.25965033 2.25965033 2.25965033 2.25965033]]\n",
      "0.001759650332835424\n",
      "142.85910894064855\n",
      "[[2.1737893 2.1737893 2.1737893 2.1737893]]\n",
      "0.0016737893002518342\n",
      "129.49581954537643\n",
      "[[2.0921178 2.0921178 2.0921178 2.0921178]]\n",
      "0.0015921178028155156\n",
      "117.40482024092643\n",
      "[[2.01443141 2.01443141 2.01443141 2.01443141]]\n",
      "0.0015144314147908105\n",
      "106.46497901950252\n",
      "[[1.94053569 1.94053569 1.94053569 1.94053569]]\n",
      "0.0014405356852674111\n",
      "96.56669659168732\n",
      "[[1.87024565 1.87024565 1.87024565 1.87024565]]\n",
      "0.0013702456514450292\n",
      "[[1.80469007 1.80469007 1.80469007 1.80469007]] 87.78128567114332\n"
     ]
    }
   ],
   "source": [
    "# notice small alpha value\n",
    "alpha = 0.0001\n",
    "iters = 650\n",
    "\n",
    "# theta is a row vector\n",
    "theta = np.array([[3, 3, 3, 3]])\n",
    "g, cost = gradientDescent(X, Y, theta, alpha, iters)  \n",
    "print(g, cost)"
   ]
  },
  {
   "cell_type": "code",
   "execution_count": 14,
   "id": "e9f5c836",
   "metadata": {},
   "outputs": [
    {
     "data": {
      "text/plain": [
       "array([[1.80469007, 1.80469007, 1.80469007, 1.80469007]])"
      ]
     },
     "execution_count": 14,
     "metadata": {},
     "output_type": "execute_result"
    }
   ],
   "source": [
    "g\n"
   ]
  },
  {
   "cell_type": "code",
   "execution_count": 15,
   "id": "149d2fa9",
   "metadata": {},
   "outputs": [
    {
     "name": "stderr",
     "output_type": "stream",
     "text": [
      "No artists with labels found to put in legend.  Note that artists whose label start with an underscore are ignored when legend() is called with no argument.\n"
     ]
    },
    {
     "data": {
      "text/plain": [
       "<matplotlib.legend.Legend at 0x1f395a5bbd0>"
      ]
     },
     "execution_count": 15,
     "metadata": {},
     "output_type": "execute_result"
    },
    {
     "data": {
      "image/png": "[encoded data removed]",
      "text/plain": [
       "<Figure size 640x480 with 1 Axes>"
      ]
     },
     "metadata": {},
     "output_type": "display_data"
    }
   ],
   "source": [
    "plt.scatter(X, Y)\n",
    "axes = plt.gca()\n",
    "x_vals = np.array(axes.get_xlim()) \n",
    "y_vals = g[0][0] * x_vals #the line equation\n",
    "plt.plot(x_vals, y_vals, '--')\n",
    "plt.legend()"
   ]
  },
  {
   "cell_type": "markdown",
   "id": "64f0f9aa",
   "metadata": {},
   "source": [
    "# Linear Regression - Using SK Learn\n",
    "\n",
    "Scikit-Learn is the mostly widely used Library for Machine Learning algorithms. It provides simple and efficient tools for data analysis. It is accessible to everybody, and reusable in various contexts. It is built on NumPy, SciPy, and Matplotlib and available as Open source, commercially usable - BSD license.\n",
    "\n",
    "More information about SKLearn can be found here: https://scikit-learn.org/stable/\n",
    "\n",
    "SKLearn simplifies ML coding doing all the heavy lifting and allowing us to create and predict ML models with just 4 lines of code(with pre-processed data)!\n",
    "\n",
    "<br><b>Step1:</b> Initialize the model\n",
    "<br> Ex: mymodel = LinearRegression()\n",
    "<br><br><b>Step2:</b> Fit the model using train\n",
    "<br> Ex: mymodel.fit(x_train, y_train)\n",
    "<br><br><b>Step3:</b> Predict the test data\n",
    "<br> Ex: y_pred = mymodel.predict(x_test)\n",
    "<br><br><b>Step4:</b> Measure the performance\n",
    "<br> Ex: accuracy_score(y_test, y_pred)\n",
    "\n"
   ]
  },
  {
   "cell_type": "code",
   "execution_count": 17,
   "id": "0c19c1f9",
   "metadata": {},
   "outputs": [
    {
     "name": "stdout",
     "output_type": "stream",
     "text": [
      "    X   Y\n",
      "0   1   2\n",
      "1   2   4\n",
      "2   3   6\n",
      "3   4   8\n",
      "4   5  10\n",
      "5   6  12\n",
      "6   7  14\n",
      "7   8  16\n",
      "8   9  18\n",
      "9  10  20\n",
      "    X\n",
      "0   1\n",
      "1   2\n",
      "2   3\n",
      "3   4\n",
      "4   5\n",
      "5   6\n",
      "6   7\n",
      "7   8\n",
      "8   9\n",
      "9  10\n",
      "0     2\n",
      "1     4\n",
      "2     6\n",
      "3     8\n",
      "4    10\n",
      "5    12\n",
      "6    14\n",
      "7    16\n",
      "8    18\n",
      "9    20\n",
      "Name: Y, dtype: int64\n"
     ]
    }
   ],
   "source": [
    "#Lets mockup the data\n",
    "\n",
    "score = pd.DataFrame({'X':[1,2,3,4,5,6,7,8,9,10],'Y':[2,4,6,8,10,12,14,16,18,20]})\n",
    "print(score)\n",
    "\n",
    "y = score.pop('Y')\n",
    "x = score\n",
    "\n",
    "print(x)\n",
    "print(y)"
   ]
  },
  {
   "cell_type": "code",
   "execution_count": 18,
   "id": "32c6a224",
   "metadata": {},
   "outputs": [],
   "source": [
    "#Lets import the SK-Learn Library and import the model\n",
    "from sklearn.linear_model import LinearRegression\n",
    "mymodel = LinearRegression()"
   ]
  },
  {
   "cell_type": "code",
   "execution_count": 19,
   "id": "9357cfb9",
   "metadata": {},
   "outputs": [
    {
     "data": {
      "text/html": [
       "<style>#sk-container-id-1 {color: black;background-color: white;}#sk-container-id-1 pre{padding: 0;}#sk-container-id-1 div.sk-toggleable {background-color: white;}#sk-container-id-1 label.sk-toggleable__label {cursor: pointer;display: block;width: 100%;margin-bottom: 0;padding: 0.3em;box-sizing: border-box;text-align: center;}#sk-container-id-1 label.sk-toggleable__label-arrow:before {content: \"▸\";float: left;margin-right: 0.25em;color: #696969;}#sk-container-id-1 label.sk-toggleable__label-arrow:hover:before {color: black;}#sk-container-id-1 div.sk-estimator:hover label.sk-toggleable__label-arrow:before {color: black;}#sk-container-id-1 div.sk-toggleable__content {max-height: 0;max-width: 0;overflow: hidden;text-align: left;background-color: #f0f8ff;}#sk-container-id-1 div.sk-toggleable__content pre {margin: 0.2em;color: black;border-radius: 0.25em;background-color: #f0f8ff;}#sk-container-id-1 input.sk-toggleable__control:checked~div.sk-toggleable__content {max-height: 200px;max-width: 100%;overflow: auto;}#sk-container-id-1 input.sk-toggleable__control:checked~label.sk-toggleable__label-arrow:before {content: \"▾\";}#sk-container-id-1 div.sk-estimator input.sk-toggleable__control:checked~label.sk-toggleable__label {background-color: #d4ebff;}#sk-container-id-1 div.sk-label input.sk-toggleable__control:checked~label.sk-toggleable__label {background-color: #d4ebff;}#sk-container-id-1 input.sk-hidden--visually {border: 0;clip: rect(1px 1px 1px 1px);clip: rect(1px, 1px, 1px, 1px);height: 1px;margin: -1px;overflow: hidden;padding: 0;position: absolute;width: 1px;}#sk-container-id-1 div.sk-estimator {font-family: monospace;background-color: #f0f8ff;border: 1px dotted black;border-radius: 0.25em;box-sizing: border-box;margin-bottom: 0.5em;}#sk-container-id-1 div.sk-estimator:hover {background-color: #d4ebff;}#sk-container-id-1 div.sk-parallel-item::after {content: \"\";width: 100%;border-bottom: 1px solid gray;flex-grow: 1;}#sk-container-id-1 div.sk-label:hover label.sk-toggleable__label {background-color: #d4ebff;}#sk-container-id-1 div.sk-serial::before {content: \"\";position: absolute;border-left: 1px solid gray;box-sizing: border-box;top: 0;bottom: 0;left: 50%;z-index: 0;}#sk-container-id-1 div.sk-serial {display: flex;flex-direction: column;align-items: center;background-color: white;padding-right: 0.2em;padding-left: 0.2em;position: relative;}#sk-container-id-1 div.sk-item {position: relative;z-index: 1;}#sk-container-id-1 div.sk-parallel {display: flex;align-items: stretch;justify-content: center;background-color: white;position: relative;}#sk-container-id-1 div.sk-item::before, #sk-container-id-1 div.sk-parallel-item::before {content: \"\";position: absolute;border-left: 1px solid gray;box-sizing: border-box;top: 0;bottom: 0;left: 50%;z-index: -1;}#sk-container-id-1 div.sk-parallel-item {display: flex;flex-direction: column;z-index: 1;position: relative;background-color: white;}#sk-container-id-1 div.sk-parallel-item:first-child::after {align-self: flex-end;width: 50%;}#sk-container-id-1 div.sk-parallel-item:last-child::after {align-self: flex-start;width: 50%;}#sk-container-id-1 div.sk-parallel-item:only-child::after {width: 0;}#sk-container-id-1 div.sk-dashed-wrapped {border: 1px dashed gray;margin: 0 0.4em 0.5em 0.4em;box-sizing: border-box;padding-bottom: 0.4em;background-color: white;}#sk-container-id-1 div.sk-label label {font-family: monospace;font-weight: bold;display: inline-block;line-height: 1.2em;}#sk-container-id-1 div.sk-label-container {text-align: center;}#sk-container-id-1 div.sk-container {/* jupyter's `normalize.less` sets `[hidden] { display: none; }` but bootstrap.min.css set `[hidden] { display: none !important; }` so we also need the `!important` here to be able to override the default hidden behavior on the sphinx rendered scikit-learn.org. See: https://github.com/scikit-learn/scikit-learn/issues/21755 */display: inline-block !important;position: relative;}#sk-container-id-1 div.sk-text-repr-fallback {display: none;}</style><div id=\"sk-container-id-1\" class=\"sk-top-container\"><div class=\"sk-text-repr-fallback\"><pre>LinearRegression()</pre><b>In a Jupyter environment, please rerun this cell to show the HTML representation or trust the notebook. <br />On GitHub, the HTML representation is unable to render, please try loading this page with nbviewer.org.</b></div><div class=\"sk-container\" hidden><div class=\"sk-item\"><div class=\"sk-estimator sk-toggleable\"><input class=\"sk-toggleable__control sk-hidden--visually\" id=\"sk-estimator-id-1\" type=\"checkbox\" checked><label for=\"sk-estimator-id-1\" class=\"sk-toggleable__label sk-toggleable__label-arrow\">LinearRegression</label><div class=\"sk-toggleable__content\"><pre>LinearRegression()</pre></div></div></div></div></div>"
      ],
      "text/plain": [
       "LinearRegression()"
      ]
     },
     "execution_count": 19,
     "metadata": {},
     "output_type": "execute_result"
    }
   ],
   "source": [
    "#Fit the model\n",
    "mymodel.fit(x,y)"
   ]
  },
  {
   "cell_type": "code",
   "execution_count": 20,
   "id": "a7f42f29",
   "metadata": {},
   "outputs": [
    {
     "data": {
      "text/plain": [
       "array([2.])"
      ]
     },
     "execution_count": 20,
     "metadata": {},
     "output_type": "execute_result"
    }
   ],
   "source": [
    "#finding the coefficient\n",
    "mymodel.coef_"
   ]
  },
  {
   "cell_type": "code",
   "execution_count": 21,
   "id": "e7bfca7f",
   "metadata": {},
   "outputs": [
    {
     "name": "stderr",
     "output_type": "stream",
     "text": [
      "C:\\Users\\HP\\anaconda3\\Lib\\site-packages\\sklearn\\base.py:439: UserWarning: X does not have valid feature names, but LinearRegression was fitted with feature names\n",
      "  warnings.warn(\n"
     ]
    },
    {
     "data": {
      "text/plain": [
       "array([12.])"
      ]
     },
     "execution_count": 21,
     "metadata": {},
     "output_type": "execute_result"
    }
   ],
   "source": [
    "#predicting the model\n",
    "mymodel.predict(np.array([[6]]))"
   ]
  },
  {
   "cell_type": "code",
   "execution_count": null,
   "id": "e9adcbbc",
   "metadata": {},
   "outputs": [],
   "source": []
  }
 ],
 "metadata": {
  "kernelspec": {
   "display_name": "Python 3 (ipykernel)",
   "language": "python",
   "name": "python3"
  },
  "language_info": {
   "codemirror_mode": {
    "name": "ipython",
    "version": 3
   },
   "file_extension": ".py",
   "mimetype": "text/x-python",
   "name": "python",
   "nbconvert_exporter": "python",
   "pygments_lexer": "ipython3",
   "version": "3.11.3"
  }
 },
 "nbformat": 4,
 "nbformat_minor": 5
}
